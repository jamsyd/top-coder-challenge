{
 "cells": [
  {
   "cell_type": "code",
   "execution_count": 1,
   "id": "b4cc0240",
   "metadata": {},
   "outputs": [
    {
     "name": "stdout",
     "output_type": "stream",
     "text": [
      "K-Nearest Neighbors (KNN) Regressor Performance:\n",
      "  Mean Absolute Error (MAE): 85.01\n",
      "  Mean Squared Error (MSE): 15861.90\n"
     ]
    }
   ],
   "source": [
    "import pandas as pd\n",
    "from sklearn.model_selection import train_test_split\n",
    "from sklearn.preprocessing import StandardScaler\n",
    "from sklearn.neighbors import KNeighborsRegressor\n",
    "from sklearn.metrics import mean_absolute_error, mean_squared_error\n",
    "\n",
    "# Load and prepare the data\n",
    "df = pd.read_json(r'C:\\Users\\james\\Documents\\GitHub\\top-coder-challenge\\public_cases.json', orient='records')\n",
    "df_flattened_inputs = pd.json_normalize(df['input'])\n",
    "df_final = pd.concat([df_flattened_inputs, df['expected_output']], axis=1)\n",
    "\n",
    "# Define features (X) and target (y)\n",
    "X = df_final[['trip_duration_days', 'miles_traveled', 'total_receipts_amount']]\n",
    "y = df_final['expected_output']\n",
    "\n",
    "# Split data into training and testing sets\n",
    "X_train, X_test, y_train, y_test = train_test_split(X, y, test_size=0.2, random_state=42)\n",
    "\n",
    "# Standardize features (important for KNN)\n",
    "scaler = StandardScaler()\n",
    "X_train_scaled = scaler.fit_transform(X_train)\n",
    "X_test_scaled = scaler.transform(X_test)\n",
    "\n",
    "# Build and train the KNN Regressor model\n",
    "# n_neighbors specifies the number of neighbors to consider (common hyperparameter)\n",
    "knn_model = KNeighborsRegressor(n_neighbors=5)\n",
    "knn_model.fit(X_train_scaled, y_train)\n",
    "\n",
    "# Make predictions on the test set\n",
    "y_pred_knn = knn_model.predict(X_test_scaled)\n",
    "\n",
    "# Evaluate the model\n",
    "mae_knn = mean_absolute_error(y_test, y_pred_knn)\n",
    "mse_knn = mean_squared_error(y_test, y_pred_knn)\n",
    "\n",
    "print(\"K-Nearest Neighbors (KNN) Regressor Performance:\")\n",
    "print(f\"  Mean Absolute Error (MAE): {mae_knn:.2f}\")\n",
    "print(f\"  Mean Squared Error (MSE): {mse_knn:.2f}\")"
   ]
  },
  {
   "cell_type": "code",
   "execution_count": null,
   "id": "694b64fd",
   "metadata": {},
   "outputs": [],
   "source": []
  }
 ],
 "metadata": {
  "kernelspec": {
   "display_name": "base",
   "language": "python",
   "name": "python3"
  },
  "language_info": {
   "codemirror_mode": {
    "name": "ipython",
    "version": 3
   },
   "file_extension": ".py",
   "mimetype": "text/x-python",
   "name": "python",
   "nbconvert_exporter": "python",
   "pygments_lexer": "ipython3",
   "version": "3.12.7"
  }
 },
 "nbformat": 4,
 "nbformat_minor": 5
}
